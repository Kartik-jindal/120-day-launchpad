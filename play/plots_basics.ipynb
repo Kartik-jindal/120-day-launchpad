{
 "cells": [
  {
   "cell_type": "code",
   "execution_count": null,
   "id": "6ee11355",
   "metadata": {},
   "outputs": [
    {
     "name": "stdout",
     "output_type": "stream",
     "text": [
      "Counter: Counter({'foo': 3, 'bar': 2, 'baz': 1})\n",
      "defaultdict: {'f': ['foo', 'foo', 'foo'], 'b': ['bar', 'baz', 'bar']}\n",
      "combinations(2): [(1, 2), (1, 3), (2, 3)]\n",
      "permutations(3): [(1, 2, 3), (1, 3, 2), (2, 1, 3), (2, 3, 1), (3, 1, 2), (3, 2, 1)]\n",
      "groupby: {'a': ['aa', 'ab'], 'b': ['ba', 'bb', 'bc']}\n"
     ]
    }
   ],
   "source": []
  }
 ],
 "metadata": {
  "kernelspec": {
   "display_name": "myenv",
   "language": "python",
   "name": "python3"
  },
  "language_info": {
   "codemirror_mode": {
    "name": "ipython",
    "version": 3
   },
   "file_extension": ".py",
   "mimetype": "text/x-python",
   "name": "python",
   "nbconvert_exporter": "python",
   "pygments_lexer": "ipython3",
   "version": "3.11.13"
  }
 },
 "nbformat": 4,
 "nbformat_minor": 5
}
